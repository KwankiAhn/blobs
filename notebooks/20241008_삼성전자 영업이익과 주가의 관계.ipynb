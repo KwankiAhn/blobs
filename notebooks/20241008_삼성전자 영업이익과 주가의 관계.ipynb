{
 "cells": [
  {
   "cell_type": "code",
   "execution_count": 1,
   "id": "028665bb",
   "metadata": {},
   "outputs": [],
   "source": [
    "# 2024.10.08 kwanki.ahn@gmail.com\n",
    "# 삼성전자 잠정 실적 발표가 되었다, 온통 뉴스는 육만전자 오만전자 주가 회복하나로 도배되고 있다.\n",
    "# 과거 long term 동안 실제로 매출, 영업이익이 주가와 상관관계가 있는지 궁금하다. 코스피는 그런거 보는거 아니라며 ㅋㅋ"
   ]
  },
  {
   "cell_type": "code",
   "execution_count": 6,
   "id": "53530f90",
   "metadata": {},
   "outputs": [],
   "source": [
    "# 2012.1Q~2024.3Q\n",
    "sellOuts = [\n",
    "    45.27,47.6,52.18,56.06,  # 2012\n",
    "    52.87,57.46,59.08,59.28,  # 2013\n",
    "    53.68,52.35,47.45,52.73,  # 2014\n",
    "    47.12,48.54,51.68,53.32,  # 2015\n",
    "    49.78,50.94,47.82,53.33, # 2016 \n",
    "    50.55,61,62.05,65.98, # 2017\n",
    "    60.56,58.48,65.46,59.27, # 2018\n",
    "    52,56,62,59.88,55.33, # 2019\n",
    "    52.97,66.96,61.55,65.39, # 2020\n",
    "    63.67,73.98,76.57,77.78, # 2021\n",
    "    77.2,76.7,70,63, # 2022\n",
    "    60.01,67,67, # 2023\n",
    "    71.92,74,79 # 2024\n",
    "]\n",
    "\n",
    "sellMarketBenefit = [\n",
    "    5.69,6.46,8.06,8.84,  # 2012\n",
    "    8.78,9.53,10.16,8.31,  # 2013\n",
    "    8.49,7.19,4.06,5.29,  # 2014\n",
    "    5.98,6.9,7.39,6.14,  # 2015\n",
    "    6.68,8.14,5.2,9.22,  # 2016\n",
    "    9.9,14.07,14.53,15.15,  # 2017\n",
    "    15.64,14.87,17.57,10.8,  # 2018\n",
    "    6.2,6.5,7.78,7.16,  # 2019\n",
    "    6.45,8.15,12.35,9.05,  # 2020\n",
    "    9.38,12.57,15.82,13.87,  # 2021\n",
    "    14.12,14.1,10.8,4.3,  # 2022\n",
    "    0.6,0.67,2.4,2.82,  # 2023\n",
    "    6.61,10.4,9.1  # 2024\n",
    "]\n",
    "\n",
    "# https://finance.naver.com/item/fchart.nhn?code=005930\n",
    "stockTrens = [\n",
    "    25500, 24020, 26920, 30440,  # 2012\n",
    "    30540, 26840, 27340, 27440,  # 2013\n",
    "    26860, 26440, 23680, 26540,  # 2014\n",
    "    28820, 25360, 22680, 25200,  # 2015\n",
    "    26240, 28500, 31960, 36040,  # 2016\n",
    "    41200, 47540, 51280, 50960,  # 2017\n",
    "    49220, 46650, 46450, 38700,  # 2018\n",
    "    44650, 47000, 49050, 55800,  # 2019\n",
    "    47750, 52800, 58200, 81000,  # 2020\n",
    "    81400, 80700, 74100, 78300,  # 2021\n",
    "    69600, 57000, 53100, 55300,  # 2022\n",
    "    64000, 72200, 68400, 78500,  # 2023\n",
    "    82400, 81500, 61500,  # 2024\n",
    "]"
   ]
  },
  {
   "cell_type": "code",
   "execution_count": 17,
   "id": "cf223a68",
   "metadata": {},
   "outputs": [],
   "source": [
    "import numpy as np\n",
    "\n",
    "def calculateCorr(arr1, arr2, title):\n",
    "    corr_matrix = np.corrcoef(np.array(arr1), np.array(arr2))\n",
    "    print(f'{title} corrcoef = {corr_matrix[0][1]:.4}')"
   ]
  },
  {
   "cell_type": "code",
   "execution_count": 18,
   "id": "b824b18f",
   "metadata": {},
   "outputs": [
    {
     "name": "stdout",
     "output_type": "stream",
     "text": [
      "sellOuts vs stockTrens corrcoef = 0.7704\n",
      "sellMarketBenefit vs stockTrens corrcoef = 0.1654\n"
     ]
    }
   ],
   "source": [
    "# 주가가 해당 분기와 같이 가는가?\n",
    "# -------------------------\n",
    "# [매출 1], 매출 2, ...\n",
    "#   |\n",
    "# [주가 1], 주가 2, ...\n",
    "# -------------------------\n",
    "# [영업이익 1], 영업이익 2, ...\n",
    "#   |\n",
    "# [주가 1], 주가 2, ...\n",
    "# -------------------------\n",
    "calculateCorr(sellOuts, stockTrens, \"sellOuts vs stockTrens\")\n",
    "calculateCorr(sellMarketBenefit, stockTrens, \"sellMarketBenefit vs stockTrens\")"
   ]
  },
  {
   "cell_type": "code",
   "execution_count": 20,
   "id": "c39899fb",
   "metadata": {},
   "outputs": [
    {
     "name": "stdout",
     "output_type": "stream",
     "text": [
      "sellOuts vs stockTrens corrcoef = 0.849\n",
      "sellMarketBenefit vs stockTrens corrcoef = 0.2392\n"
     ]
    }
   ],
   "source": [
    "# 주가가 선 반영 되는가?\n",
    "# 매출 1, [매출 2], 매출 3, ...\n",
    "#       /\n",
    "# [주가 1], 주가 2, ...\n",
    "calculateCorr(sellOuts[1:], stockTrens[:-1], \"sellOuts vs stockTrens\")\n",
    "calculateCorr(sellMarketBenefit[1:], stockTrens[:-1], \"sellMarketBenefit vs stockTrens\")"
   ]
  },
  {
   "cell_type": "code",
   "execution_count": 21,
   "id": "d36ab86d",
   "metadata": {},
   "outputs": [
    {
     "name": "stdout",
     "output_type": "stream",
     "text": [
      "sellOuts vs stockTrens corrcoef = 0.7149\n",
      "sellMarketBenefit vs stockTrens corrcoef = 0.07525\n"
     ]
    }
   ],
   "source": [
    "# 주가가 후 반영 되는가?\n",
    "# [매출 1], 매출 2, ...\n",
    "#       |\n",
    "# 주가 1, [주가 2], ...\n",
    "calculateCorr(sellOuts[:-1], stockTrens[1:], \"sellOuts vs stockTrens\")\n",
    "calculateCorr(sellMarketBenefit[:-1], stockTrens[1:], \"sellMarketBenefit vs stockTrens\")"
   ]
  },
  {
   "cell_type": "code",
   "execution_count": null,
   "id": "911aab5c",
   "metadata": {},
   "outputs": [],
   "source": [
    "# 결론 (2012.1Q~2024.3Q 분기별 데이터 참조)\n",
    "# 매출은 주가가 선 반영 되는 측면이 강하다.\n",
    "# 상관관계가 높은 것은 '매출'이다\n",
    "# 주식이 죽을 쑤고 있는데, 다음 분기 삼전의 미래는 그렇다면... 밝지 않다?"
   ]
  }
 ],
 "metadata": {
  "kernelspec": {
   "display_name": "Python 3 (ipykernel)",
   "language": "python",
   "name": "python3"
  },
  "language_info": {
   "codemirror_mode": {
    "name": "ipython",
    "version": 3
   },
   "file_extension": ".py",
   "mimetype": "text/x-python",
   "name": "python",
   "nbconvert_exporter": "python",
   "pygments_lexer": "ipython3",
   "version": "3.9.7"
  }
 },
 "nbformat": 4,
 "nbformat_minor": 5
}
